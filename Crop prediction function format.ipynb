{
 "cells": [
  {
   "cell_type": "code",
   "execution_count": 1,
   "metadata": {},
   "outputs": [],
   "source": [
    "import numpy as np\n",
    "import matplotlib.pyplot as plt\n",
    "import pandas as pd\n",
    "from sklearn.model_selection import train_test_split\n",
    "from sklearn.linear_model import LinearRegression\n",
    "from sklearn.tree import DecisionTreeRegressor,DecisionTreeClassifier\n",
    "from sklearn.metrics import confusion_matrix\n",
    "from sklearn.metrics import accuracy_score"
   ]
  },
  {
   "cell_type": "code",
   "execution_count": 28,
   "metadata": {},
   "outputs": [],
   "source": [
    "def call():\n",
    "        df=pd.read_excel(r\"C:\\Users\\REPUBLIC OF GAMERS\\Desktop\\results.xlsx\")\n",
    "        X=df.drop(['label'],axis=1)\n",
    "        y=df[['label']]\n",
    "        x_train,x_test,y_train,y_test=train_test_split(X,y,test_size=0.3)\n",
    "        return x_train,x_test,y_test,y_train\n",
    "        "
   ]
  },
  {
   "cell_type": "code",
   "execution_count": 29,
   "metadata": {},
   "outputs": [],
   "source": [
    "def enter_data():\n",
    "    x_train,x_test,y_test,y_train=call()\n",
    "    lm=LinearRegression()\n",
    "    clf=DecisionTreeClassifier()\n",
    "    reg=DecisionTreeRegressor()\n",
    "    ph_val=float(input(\"enter ph data\"))\n",
    "    temp_val=float(input(\"enter temperature of soil\"))\n",
    "    humidity_val=float(input(\"enter humidity\"))\n",
    "    rainfall_val=float(input(\"enter rainfall\"))\n",
    "    moisture_val=float(input(\"enter moisture \"))\n",
    "    lm.fit(x_train,y_train)\n",
    "    clf.fit(x_train,y_train)\n",
    "    reg.fit(x_train,y_train)\n",
    "    \n",
    "    #y_test=list((ph_val,temp_val,humidity_val,rainfall_val,moisture_val))\n",
    "    y_test= [[ph_val,temp_val,humidity_val,rainfall_val,moisture_val]]\n",
    "    #print(y_test)\n",
    "    return y_test,lm,clf,reg,x_test"
   ]
  },
  {
   "cell_type": "code",
   "execution_count": null,
   "metadata": {},
   "outputs": [],
   "source": []
  },
  {
   "cell_type": "code",
   "execution_count": null,
   "metadata": {},
   "outputs": [],
   "source": []
  },
  {
   "cell_type": "code",
   "execution_count": 35,
   "metadata": {},
   "outputs": [],
   "source": [
    "def predict():\n",
    "    Y,lm,clf,reg,x_test=enter_data()\n",
    "    x1=lm.predict(x_test)\n",
    "    x2=clf.predict(x_test)\n",
    "    x3=reg.predict(x_test)\n",
    "    pred1=clf.predict(Y)\n",
    "    pred2=reg.predict(Y)\n",
    "    pred3=lm.predict(Y)\n",
    "    decode(pred1)\n",
    "    print(\"--------\")\n",
    "    decode(pred2)\n",
    "    print(\"--------\")\n",
    "    decode(pred3)\n",
    "    "
   ]
  },
  {
   "cell_type": "code",
   "execution_count": 37,
   "metadata": {},
   "outputs": [],
   "source": [
    "def decode(value):\n",
    "    print(value , type(value))\n",
    "    for i in value:\n",
    "        if i<=1.5:\n",
    "            print(\"paddy\")\n",
    "        elif i<=2.5:\n",
    "            print(\"corn\")\n",
    "        elif i<=3.5:\n",
    "            print(\"potato\")\n",
    "        elif i<=4.5:\n",
    "            print(\"tomato\")\n",
    "    "
   ]
  },
  {
   "cell_type": "code",
   "execution_count": 32,
   "metadata": {},
   "outputs": [
    {
     "ename": "NameError",
     "evalue": "name 'pred1' is not defined",
     "output_type": "error",
     "traceback": [
      "\u001b[1;31m---------------------------------------------------------------------------\u001b[0m",
      "\u001b[1;31mNameError\u001b[0m                                 Traceback (most recent call last)",
      "\u001b[1;32m<ipython-input-32-aafcfb147aa5>\u001b[0m in \u001b[0;36m<module>\u001b[1;34m\u001b[0m\n\u001b[1;32m----> 1\u001b[1;33m \u001b[0mdecode\u001b[0m\u001b[1;33m(\u001b[0m\u001b[0mpred1\u001b[0m\u001b[1;33m)\u001b[0m\u001b[1;33m\u001b[0m\u001b[1;33m\u001b[0m\u001b[0m\n\u001b[0m\u001b[0;32m      2\u001b[0m \u001b[0mprint\u001b[0m\u001b[1;33m(\u001b[0m\u001b[1;34m\"--------\"\u001b[0m\u001b[1;33m)\u001b[0m\u001b[1;33m\u001b[0m\u001b[1;33m\u001b[0m\u001b[0m\n\u001b[0;32m      3\u001b[0m \u001b[0mdecode\u001b[0m\u001b[1;33m(\u001b[0m\u001b[0mpred2\u001b[0m\u001b[1;33m)\u001b[0m\u001b[1;33m\u001b[0m\u001b[1;33m\u001b[0m\u001b[0m\n\u001b[0;32m      4\u001b[0m \u001b[0mprint\u001b[0m\u001b[1;33m(\u001b[0m\u001b[1;34m\"--------\"\u001b[0m\u001b[1;33m)\u001b[0m\u001b[1;33m\u001b[0m\u001b[1;33m\u001b[0m\u001b[0m\n\u001b[0;32m      5\u001b[0m \u001b[0mdecode\u001b[0m\u001b[1;33m(\u001b[0m\u001b[0mpred3\u001b[0m\u001b[1;33m)\u001b[0m\u001b[1;33m\u001b[0m\u001b[1;33m\u001b[0m\u001b[0m\n",
      "\u001b[1;31mNameError\u001b[0m: name 'pred1' is not defined"
     ]
    }
   ],
   "source": [
    "decode(pred1)\n",
    "print(\"--------\")\n",
    "decode(pred2)\n",
    "print(\"--------\")\n",
    "decode(pred3)"
   ]
  },
  {
   "cell_type": "code",
   "execution_count": 33,
   "metadata": {},
   "outputs": [
    {
     "ename": "NameError",
     "evalue": "name 'y_test' is not defined",
     "output_type": "error",
     "traceback": [
      "\u001b[1;31m---------------------------------------------------------------------------\u001b[0m",
      "\u001b[1;31mNameError\u001b[0m                                 Traceback (most recent call last)",
      "\u001b[1;32m<ipython-input-33-b8081c34388b>\u001b[0m in \u001b[0;36m<module>\u001b[1;34m\u001b[0m\n\u001b[1;32m----> 1\u001b[1;33m \u001b[0mconfusion_matrix\u001b[0m\u001b[1;33m(\u001b[0m\u001b[0my_test\u001b[0m\u001b[1;33m,\u001b[0m \u001b[0mx3\u001b[0m\u001b[1;33m)\u001b[0m\u001b[1;33m\u001b[0m\u001b[1;33m\u001b[0m\u001b[0m\n\u001b[0m",
      "\u001b[1;31mNameError\u001b[0m: name 'y_test' is not defined"
     ]
    }
   ],
   "source": [
    "confusion_matrix(y_test, x3)"
   ]
  },
  {
   "cell_type": "code",
   "execution_count": null,
   "metadata": {},
   "outputs": [],
   "source": [
    "confusion_matrix(y_test, x2)"
   ]
  },
  {
   "cell_type": "code",
   "execution_count": null,
   "metadata": {},
   "outputs": [],
   "source": [
    "accuracy_score(y_test, x3)*100\n",
    "accuracy_score(y_test, x2)*100"
   ]
  },
  {
   "cell_type": "code",
   "execution_count": 38,
   "metadata": {},
   "outputs": [
    {
     "name": "stdout",
     "output_type": "stream",
     "text": [
      "enter ph data000\n",
      "enter temperature of soil00\n",
      "enter humidity0\n",
      "enter rainfall0\n",
      "enter moisture 0\n",
      "[2] <class 'numpy.ndarray'>\n",
      "corn\n",
      "--------\n",
      "[1.] <class 'numpy.ndarray'>\n",
      "paddy\n",
      "--------\n",
      "[[4.22922142]] <class 'numpy.ndarray'>\n",
      "tomato\n"
     ]
    }
   ],
   "source": [
    "if __name__==\"__main__\":\n",
    "    predict()\n",
    "    "
   ]
  },
  {
   "cell_type": "code",
   "execution_count": 23,
   "metadata": {},
   "outputs": [
    {
     "name": "stdout",
     "output_type": "stream",
     "text": [
      "enter ph data0\n",
      "enter temperature of soil0\n",
      "enter humidity0\n",
      "enter rainfall0\n",
      "enter moisture 0\n",
      "paddy\n",
      "None\n",
      "--------\n",
      "paddy\n",
      "None\n",
      "--------\n",
      "None\n"
     ]
    }
   ],
   "source": []
  },
  {
   "cell_type": "code",
   "execution_count": null,
   "metadata": {},
   "outputs": [],
   "source": []
  }
 ],
 "metadata": {
  "kernelspec": {
   "display_name": "Python 3",
   "language": "python",
   "name": "python3"
  },
  "language_info": {
   "codemirror_mode": {
    "name": "ipython",
    "version": 3
   },
   "file_extension": ".py",
   "mimetype": "text/x-python",
   "name": "python",
   "nbconvert_exporter": "python",
   "pygments_lexer": "ipython3",
   "version": "3.7.3"
  }
 },
 "nbformat": 4,
 "nbformat_minor": 2
}
